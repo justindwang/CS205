{
 "cells": [
  {
   "cell_type": "markdown",
   "metadata": {
    "colab_type": "text",
    "id": "__1JBcfGnOHj"
   },
   "source": [
    "### Project 1 - CS205"
   ]
  },
  {
   "cell_type": "markdown",
   "metadata": {},
   "source": [
    "Board states are represented as 2-D lists, where the blank slot is represented by 0 and the puzzle is read left to right, top to bottom. For example, the solved Angelica puzzle will be represented as [['A','N','G'],['E','L','I'],['C','A',' ']].\n",
    "\n",
    "Our state, (Node) contains 4 instance variables:\n",
    "- **board** - a board represented as a list shown above\n",
    "- **prev_board** - its parent state which is also represented as a list\n",
    "- **g** and **h** - a pair of integers which correspond to the g(n) and h(n) values discussed in class\n",
    "\n",
    "There are three accessor methods: \n",
    "- **get_board()** - returns the Node's board state\n",
    "- **get_prev()** - returns the stored parent board state\n",
    "- **get_g()** - which returns the stored value of g(n)"
   ]
  },
  {
   "cell_type": "code",
   "execution_count": 1,
   "metadata": {},
   "outputs": [],
   "source": [
    "class Node:\n",
    "    def __init__(self, board, prev_board, g, h):\n",
    "        self.board = board\n",
    "        self.prev_board = prev_board\n",
    "        self.g = g\n",
    "        self.h = h\n",
    "\n",
    "    def get_board(self):\n",
    "        return self.board\n",
    "    \n",
    "    def get_prev_board(self):\n",
    "        return self.prev_board\n",
    "\n",
    "    def get_g(self):\n",
    "        return self.g"
   ]
  },
  {
   "cell_type": "markdown",
   "metadata": {},
   "source": [
    "There is no accessor for h. Instead, we will use the helper function get_h() to calculate the heuristic of a state using the manhattan distance. To calculate the manhattan distances, the function references a lookup table holding the correct positions of each letter. Note that for 'A', we add the manhattan distance of the closer correct 'A' spot."
   ]
  },
  {
   "cell_type": "code",
   "execution_count": 2,
   "metadata": {},
   "outputs": [],
   "source": [
    "solved = {'N':(0,1),'G':(0,2),'E':(1,0),'L':(1,1),'I':(1,2),'C':(2,0)}\n",
    "\n",
    "def manhat(start, end):\n",
    "  return abs(start[0]-end[0]) + abs(start[1]-end[1])\n",
    "\n",
    "def get_h(board):\n",
    "    h = 0\n",
    "    for r, row in enumerate(board):\n",
    "        for c, val in enumerate(row):\n",
    "            if val != ' ':\n",
    "                if val == 'A':\n",
    "                    h1 = manhat((r,c), (0,0))\n",
    "                    h2 = manhat((r,c),(2,1))\n",
    "                    h += min(h1,h2)\n",
    "                else:\n",
    "                    h += manhat((r,c),solved[val])\n",
    "    return h"
   ]
  },
  {
   "cell_type": "markdown",
   "metadata": {},
   "source": [
    "The swap function will return a shallow copy of the input board with the values at (r1,c1) and (r2,c2) swapped. This helper function will be used to expand board states by moving the blank up, down, left, and right."
   ]
  },
  {
   "cell_type": "code",
   "execution_count": 3,
   "metadata": {},
   "outputs": [],
   "source": [
    "def swap(board, r1, c1, r2, c2):\n",
    "    temp = [row[:] for row in board]\n",
    "    temp[r1][c1], temp[r2][c2] = temp[r2][c2], temp[r1][c1]\n",
    "    return temp"
   ]
  },
  {
   "cell_type": "markdown",
   "metadata": {},
   "source": [
    "The expand() function takes a Node (n), the priority queue it adds new Nodes to (q), an interator (counter).\n",
    "\n",
    "The function locates the position of the blank tile, determines the possible new states to add\n",
    "to the priority queue, and adds them accordingly with the g and h values."
   ]
  },
  {
   "cell_type": "code",
   "execution_count": 10,
   "metadata": {},
   "outputs": [],
   "source": [
    "def expand(n, q, counter):\n",
    "    new_g = n.get_g() + 1\n",
    "    \n",
    "    # Finding index of blank tile\n",
    "    for i, x in enumerate(n.get_board()):\n",
    "        if ' ' in x:\n",
    "            blank_r = i\n",
    "            blank_c = x.index(' ')\n",
    "    \n",
    "    # Can only move blank up if it is on row 1 or 2 \n",
    "    if blank_r > 0:\n",
    "        new_board1 = swap(n.get_board(), blank_r, blank_c, blank_r-1, blank_c)\n",
    "        new_h1 = get_h(new_board1)\n",
    "        q.put((new_g + new_h1, next(counter), Node(new_board1, n.get_board(), new_g, new_h1)))\n",
    "        \n",
    "    # Can only move blank down if it is on row 0 or 1\n",
    "    if blank_r < 2:\n",
    "        new_board2 = swap(n.get_board(), blank_r, blank_c, blank_r+1, blank_c)\n",
    "        new_h2 = get_h(new_board2)\n",
    "        q.put((new_g + new_h2, next(counter), Node(new_board2, n.get_board(), new_g, new_h2)))\n",
    "        \n",
    "    # Can only move blank left if is is on column 1 or 2\n",
    "    if blank_c > 0:\n",
    "        new_board3 = swap(n.get_board(), blank_r, blank_c, blank_r, blank_c-1)\n",
    "        new_h3 = get_h(new_board3)\n",
    "        q.put((new_g + new_h3, next(counter), Node(new_board3, n.get_board(), new_g, new_h3)))\n",
    "        \n",
    "    #  Can only move blank right if it is on column 0 or 1\n",
    "    if blank_c < 2:\n",
    "        new_board4 = swap(n.get_board(), blank_r, blank_c, blank_r, blank_c+1)\n",
    "        new_h4 = get_h(new_board4)\n",
    "        q.put((new_g + new_h4, next(counter), Node(new_board4, n.get_board(), new_g, new_h4)))"
   ]
  },
  {
   "cell_type": "markdown",
   "metadata": {},
   "source": [
    "The repeated() function takes a list (board) and checks it against a list of boards (_list). repeated() returns true if the list\n",
    "contains the board and false if the list does not. This function is used to check for repeated board states.\n",
    "\n",
    "The print_board() function will print a board with each row on a new line. It will also adjust the hardcoded second 'A' as 'B' to an 'A' in the system output."
   ]
  },
  {
   "cell_type": "code",
   "execution_count": 5,
   "metadata": {},
   "outputs": [],
   "source": [
    "def repeated(board, _list):\n",
    "    for i in _list:\n",
    "        if board == i:\n",
    "            return True\n",
    "    return False\n",
    "\n",
    "def print_board(board):\n",
    "    for row in board:\n",
    "        space = ''\n",
    "        for value in row:\n",
    "            print(space + value, end='')\n",
    "            space = ' '\n",
    "        print()"
   ]
  },
  {
   "cell_type": "markdown",
   "metadata": {},
   "source": [
    "The search function takes an initial board (init_board) and a trace flag represented as a char (trace) and performs A* search for the goal state using manhattan distance. If the goal state is found, a success message is displayed along with the depth, expanded nodes, frontier nodes, and the time taken. If no goal state is found, a failure message is displayed along with the expanded nodes and time taken. If the trace flag is '1', the trace for the solution is displayed as well."
   ]
  },
  {
   "cell_type": "code",
   "execution_count": 13,
   "metadata": {},
   "outputs": [],
   "source": [
    "from queue import PriorityQueue\n",
    "import itertools\n",
    "import time\n",
    "\n",
    "def search(init_board, trace):\n",
    "    start_time = time.time()\n",
    "    expanded_nodes = 0\n",
    "    frontier_nodes = 0\n",
    "\n",
    "    # This iterator from python's itertools library is used to assign a unique value to each tuple, as python's priority queue compares subsequent values \n",
    "    # in tuples when prior values are equal, but I did not want to overload the '<' operator for my defined Node class. Since we can choose how to prioritize\n",
    "    # Nodes with the same priority, this method is used.\n",
    "    counter = itertools.count()\n",
    "    repeated_states = []\n",
    "    max_q_size = 0\n",
    "    print('Using initial board:')\n",
    "    print_board(init_board)\n",
    "\n",
    "    # initial node creation\n",
    "    n = Node(init_board, init_board, 0, get_h(init_board))\n",
    "    q = PriorityQueue()\n",
    "\n",
    "    # This is how we assign unique integers to the tuple's second value.\n",
    "    q.put((n.get_g(), next(counter), n))\n",
    "    \n",
    "    while not q.empty():\n",
    "        # update the max queue size accordingly\n",
    "        if(q.qsize()>max_q_size):\n",
    "            max_q_size = q.qsize()\n",
    "\n",
    "        # we dequeue the first board from our priority queue and set it equal to temp\n",
    "        temp = q.get()[2]\n",
    "        # we skip the expansion process if the board is repeated.\n",
    "        if(repeated(temp.get_board(),repeated_states)):\n",
    "            continue\n",
    "\n",
    "        # success state, all displayed values are appropriately calculated\n",
    "        if(temp.get_board() == [['A','N','G'],['E','L','I'],['C','A',' ']]):\n",
    "            print('Final board:')\n",
    "            print_board(temp.get_board())\n",
    "            print('Success!')\n",
    "            print('Depth: ' + str(temp.get_g()))\n",
    "            print('Expanded Nodes: ' + str(expanded_nodes))\n",
    "            print('Frontier Nodes: ' + str(q.qsize()))\n",
    "            print('Max Queue Size: '+ str(max_q_size))\n",
    "            print(\"-- %s seconds -- were used.\" % (time.time() - start_time))\n",
    "            return\n",
    "\n",
    "        # trace check whether to output trace of expansion or not\n",
    "        if(trace == '1'):\n",
    "            print('The next state to expand has g(n) = ' + str(temp.get_g()) + ' and h(n) = ' + str(get_h(temp.get_board())) + ':')\n",
    "            print_board(temp.get_board())\n",
    "\n",
    "        # expansion of dequeued node\n",
    "        expand(temp, q, counter)\n",
    "\n",
    "        # add this expanded node to repeated_states[]\n",
    "        repeated_states.append(temp.get_board())\n",
    "        expanded_nodes += 1\n",
    "    \n",
    "    # failure state, our priority queue has nothing left to check\n",
    "    print('No solution exists!')\n",
    "    print('Expanded Nodes: ' + str(expanded_nodes))\n",
    "    print(\"-- %s seconds -- were used.\" % (time.time() - start_time))"
   ]
  },
  {
   "cell_type": "markdown",
   "metadata": {},
   "source": [
    "Main function that will attempt to solve a default angelica puzzle or a user inputted angelica puzzle. The format for inputting a custom board is from left to right, top to bottom, with 'B' as blank tile and including spaces in between tiles. A trace of the search can be included if '1' is entered."
   ]
  },
  {
   "cell_type": "code",
   "execution_count": 21,
   "metadata": {},
   "outputs": [
    {
     "name": "stdout",
     "output_type": "stream",
     "text": [
      "Type \"1\" to use a default puzzle or \"2\" to enter your own puzzle.\n",
      "2\n",
      "Enter a puzzle from left to right, top to bottom, using 'B' for the blank tile and including spaces in between tiles. Ex: \"A N G E L I C A B\".\n",
      "A G N E L I C A B\n",
      "Would you like to display a trace of the algorithm? \"1\" for YES and \"2\" for NO\n",
      "2\n",
      "Using initial board:\n",
      "A G N\n",
      "E L I\n",
      "C A  \n",
      "Final board:\n",
      "A N G\n",
      "E L I\n",
      "C A  \n",
      "Success!\n",
      "Depth: 22\n",
      "Expanded Nodes: 3156\n",
      "Frontier Nodes: 2748\n",
      "Max Queue Size: 2751\n",
      "-- 0.47871994972229004 seconds -- were used.\n"
     ]
    }
   ],
   "source": [
    "def angelica():\n",
    "    num = input('Type \"1\" to use a default puzzle or \"2\" to enter your own puzzle.\\n')\n",
    "    if(num == '1'):\n",
    "        init_board = [[' ','C','N'],['E','I','A'],['G','L','A']]\n",
    "    if(num == '2'):\n",
    "        my_string = input('Enter a puzzle from left to right, top to bottom, using \\'B\\' for the blank tile and including spaces in between tiles. Ex: \"A N G E L I C A B\".\\n')\n",
    "        my_list = my_string.split()      \n",
    "        temp = [x if x != 'B' else ' ' for x in list(my_list)]\n",
    "        init_board = [temp[:3],temp[3:6],temp[6:]]\n",
    "    trace = input('Would you like to display a trace of the algorithm? \"1\" for YES and \"2\" for NO\\n')\n",
    "    search(init_board, trace)\n",
    "\n",
    "angelica()"
   ]
  }
 ],
 "metadata": {
  "colab": {
   "collapsed_sections": [],
   "name": "1A. Distribution of First Digits.ipynb",
   "provenance": []
  },
  "kernelspec": {
   "display_name": "Python 3 (ipykernel)",
   "language": "python",
   "name": "python3"
  },
  "language_info": {
   "codemirror_mode": {
    "name": "ipython",
    "version": 3
   },
   "file_extension": ".py",
   "mimetype": "text/x-python",
   "name": "python",
   "nbconvert_exporter": "python",
   "pygments_lexer": "ipython3",
   "version": "3.9.7"
  }
 },
 "nbformat": 4,
 "nbformat_minor": 4
}
